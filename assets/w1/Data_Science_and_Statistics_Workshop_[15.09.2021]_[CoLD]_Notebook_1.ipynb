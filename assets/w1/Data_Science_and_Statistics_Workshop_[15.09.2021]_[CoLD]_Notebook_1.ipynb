{
 "cells": [
  {
   "cell_type": "markdown",
   "metadata": {},
   "source": [
    "![Logo](./full_logo.png)"
   ]
  },
  {
   "cell_type": "markdown",
   "metadata": {},
   "source": [
    "# Data Science Workshop, 15/09/2021\n",
    "## Co.L.D, the Computer science Club\n",
    "### School of Engineering, Jawaharlal Nehru University \n",
    "\n",
    "#### Jupyter Notebook made by Shubham Singh, Co-President Co.L.D"
   ]
  },
  {
   "cell_type": "markdown",
   "metadata": {},
   "source": [
    "# 1. Learning Python\n",
    "Before I begin, I again emphasize this point: This is not a comprehensive Python tutorial but instead is intended to highlight the parts of the language that will be most important to us (some of which are often not the focus of\n",
    "Python tutorials)."
   ]
  },
  {
   "cell_type": "markdown",
   "metadata": {},
   "source": [
    "## 1.1 Getting Python\n",
    " - python.org\n",
    " - Anaconda\n",
    " - buulding from source"
   ]
  },
  {
   "cell_type": "markdown",
   "metadata": {},
   "source": [
    "## 1.2 The Zen of Python"
   ]
  },
  {
   "cell_type": "code",
   "execution_count": null,
   "metadata": {},
   "outputs": [],
   "source": [
    "import this"
   ]
  },
  {
   "cell_type": "markdown",
   "metadata": {},
   "source": [
    "## 1.3 Whitespace formatting"
   ]
  },
  {
   "cell_type": "code",
   "execution_count": null,
   "metadata": {},
   "outputs": [],
   "source": [
    "# 1.3 EXAMPLE 1\n",
    "for i in [1, 2, 3, 4, 5]:\n",
    "    print(i) # first line in \"for i\" block\n",
    "    \n",
    "    for j in [1, 2, 3, 4]:\n",
    "        print(j)                       # first line in \"for j\" block\n",
    "        print(i + j)                     # last line in \"for j\" block\n",
    "    print(i)                              # last line in \"for i\" block\n",
    "print(\"Loop Complete\")\n"
   ]
  },
  {
   "cell_type": "code",
   "execution_count": null,
   "metadata": {},
   "outputs": [],
   "source": [
    "# 1.3 EXAMPLE 2\n",
    "long_winded_computation = (1 + 2 + 3 + 4 + 5 + 6 + 7 + 8 + 9 + 10 + 11 + 12 + 13 + 14 + 15 + 16 + 17 + 18 + 19 + 20)"
   ]
  },
  {
   "cell_type": "code",
   "execution_count": null,
   "metadata": {},
   "outputs": [],
   "source": [
    "# 1.3 EXAMPLE 3\n",
    "list_of_lists = [[1, 2, 3], [4, 5, 6], [7, 8, 9]]\n",
    "easier_to_read_list_of_lists = [ [1, 2, 3],\n",
    "                                [4, 5, 6], \n",
    "                                [7, 8, 9] ]"
   ]
  },
  {
   "cell_type": "code",
   "execution_count": null,
   "metadata": {},
   "outputs": [],
   "source": [
    "# 1.3 EXAMPLE 4\n",
    "two_plus_three = 2 + \\\n",
    "3"
   ]
  },
  {
   "cell_type": "markdown",
   "metadata": {},
   "source": [
    "## 1.4 Modules\n"
   ]
  },
  {
   "cell_type": "code",
   "execution_count": 1,
   "metadata": {},
   "outputs": [],
   "source": [
    "import numpy\n",
    "import matplotlib.pyplot as plt"
   ]
  },
  {
   "cell_type": "markdown",
   "metadata": {},
   "source": [
    "## 1.5 Arithmetic"
   ]
  },
  {
   "cell_type": "code",
   "execution_count": 3,
   "metadata": {},
   "outputs": [],
   "source": [
    "# Float type arithmetic\n",
    "# 5/2 = 2.5"
   ]
  },
  {
   "cell_type": "markdown",
   "metadata": {},
   "source": [
    "## 1.6 Functions"
   ]
  },
  {
   "cell_type": "code",
   "execution_count": 6,
   "metadata": {},
   "outputs": [
    {
     "name": "stdout",
     "output_type": "stream",
     "text": [
      "1\n"
     ]
    }
   ],
   "source": [
    "def sum_two_digits(no1=0, no2=1):\n",
    "    return no1 + no2\n",
    "\n",
    "c = sum_two_digits()\n",
    "print(c)\n",
    "\n",
    "# *args\n",
    "# *kwargs\n",
    "# def name(*args, *kwargs)"
   ]
  },
  {
   "cell_type": "markdown",
   "metadata": {},
   "source": [
    "## 1.7 Strings"
   ]
  },
  {
   "cell_type": "code",
   "execution_count": 4,
   "metadata": {},
   "outputs": [
    {
     "name": "stdout",
     "output_type": "stream",
     "text": [
      "my name is s1\n",
      "my name is s2\n",
      "my name is null\n"
     ]
    }
   ],
   "source": [
    "s1 = \"my name is s1\"\n",
    "s2 = 'my name is s2'\n",
    "print(s1)\n",
    "print(s2)\n",
    "print(\"my name is null\")"
   ]
  },
  {
   "cell_type": "markdown",
   "metadata": {},
   "source": [
    "## 1.8 Lists\n"
   ]
  },
  {
   "cell_type": "code",
   "execution_count": 7,
   "metadata": {},
   "outputs": [
    {
     "name": "stdout",
     "output_type": "stream",
     "text": [
      "[0, 0]\n",
      "[1, 'a', <function sum_two_digits at 0x000001BF1E2B4790>]\n"
     ]
    }
   ],
   "source": [
    "list_a = [0,0]\n",
    "print(list_a)\n"
   ]
  },
  {
   "cell_type": "code",
   "execution_count": null,
   "metadata": {},
   "outputs": [],
   "source": [
    "list_a[0] = 1\n",
    "list_a[1] = 2"
   ]
  },
  {
   "cell_type": "code",
   "execution_count": null,
   "metadata": {},
   "outputs": [],
   "source": [
    "print(list_a)\n",
    "# A list can be modified after creating it i.e. it is a mutable data structure."
   ]
  },
  {
   "cell_type": "markdown",
   "metadata": {},
   "source": [
    "## 1.9 Tuples"
   ]
  },
  {
   "cell_type": "code",
   "execution_count": 9,
   "metadata": {},
   "outputs": [
    {
     "name": "stdout",
     "output_type": "stream",
     "text": [
      "(1, 2)\n"
     ]
    }
   ],
   "source": [
    "x = (1, 2)\n",
    "print(x)"
   ]
  },
  {
   "cell_type": "code",
   "execution_count": null,
   "metadata": {},
   "outputs": [],
   "source": [
    "# Tuples are immutable data structures."
   ]
  },
  {
   "cell_type": "markdown",
   "metadata": {},
   "source": [
    "## 1.10 Dictionaries"
   ]
  },
  {
   "cell_type": "code",
   "execution_count": 10,
   "metadata": {},
   "outputs": [
    {
     "name": "stdout",
     "output_type": "stream",
     "text": [
      "{'name': 'shubham', 'id': 'dravadhis'}\n",
      "shubham\n"
     ]
    }
   ],
   "source": [
    "dict_a = {'name': \"shubham\", 'id': \"dravadhis\"}\n",
    "print(dict_a)\n",
    "print(dict_a['name'])\n",
    "\n",
    "# { <key1, value1>, <key2, value2> ..}"
   ]
  },
  {
   "cell_type": "markdown",
   "metadata": {},
   "source": [
    "## 1.11 Control Flow"
   ]
  },
  {
   "cell_type": "code",
   "execution_count": null,
   "metadata": {},
   "outputs": [],
   "source": [
    "# 1.11 EXAMPLE 1\n",
    "if 1 > 2:\n",
    "    message = \"if only 1 were greater than two…\"\n",
    "elif 4 > 3:  #else if = elif in python\n",
    "    message = \"elif stands for 'else if'\"\n",
    "else:\n",
    "    message = \"when all else fails use else (if you want to)\"\n",
    "\n",
    "print(message)"
   ]
  },
  {
   "cell_type": "code",
   "execution_count": null,
   "metadata": {},
   "outputs": [],
   "source": [
    "# 1.11 EXAMPLE 3\n",
    "x = 0\n",
    "while x < 10:\n",
    "    print(x, \"is less than 10\")\n",
    "    x+=1"
   ]
  },
  {
   "cell_type": "code",
   "execution_count": null,
   "metadata": {},
   "outputs": [],
   "source": [
    "# 1.11 EXAMPLE 4\n",
    "for x in range(10): \n",
    "    print(x, \"is less than 10\")"
   ]
  },
  {
   "cell_type": "code",
   "execution_count": null,
   "metadata": {},
   "outputs": [],
   "source": [
    "# 1.11 EXAMPLE 5\n",
    "for x in range(10):\n",
    "    if x == 3:\n",
    "        continue           # go immediately to the next iteration\n",
    "    if x == 5:\n",
    "        break              # quit the loop entirely\n",
    "    print(x)               #This will print 0, 1, 2, and 4.\n",
    "    \n",
    "\n",
    "# Nested loops\n",
    "# List Comprehension"
   ]
  },
  {
   "cell_type": "markdown",
   "metadata": {},
   "source": [
    "---"
   ]
  },
  {
   "cell_type": "markdown",
   "metadata": {},
   "source": [
    "# 2. Linear Algebra"
   ]
  },
  {
   "cell_type": "markdown",
   "metadata": {},
   "source": [
    "## 2.1 Vectors"
   ]
  },
  {
   "cell_type": "code",
   "execution_count": null,
   "metadata": {},
   "outputs": [],
   "source": [
    "# 2.1 EXAMPLE 1\n",
    "# height, weight, age\n",
    "# 3d vector (height, weight, age)\n",
    "\n",
    "height_weight_age = [70, # inches,\n",
    "                     170, # pounds,\n",
    "                     40 ] # years\n",
    "\n",
    "grades = [95, # exam1\n",
    "          80, # exam2\n",
    "          75, # exam3\n",
    "          62 ] # exam4"
   ]
  },
  {
   "cell_type": "code",
   "execution_count": null,
   "metadata": {},
   "outputs": [],
   "source": [
    "# 2.1 EXAMPLE 2\n",
    "def vector_add(v, w):\n",
    "    \"\"\"adds corresponding elements\"\"\"\n",
    "    return [v_i + w_i for v_i, w_i in zip(v, w)]\n"
   ]
  },
  {
   "cell_type": "code",
   "execution_count": null,
   "metadata": {},
   "outputs": [],
   "source": [
    "# 2.1 EXAMPLE 3\n",
    "def vector_subtract(v, w):\n",
    "    \"\"\"subtracts corresponding elements\"\"\"\n",
    "    return [v_i - w_i for v_i, w_i in zip(v, w)]\n",
    "\n"
   ]
  },
  {
   "cell_type": "markdown",
   "metadata": {},
   "source": [
    "## 2.2 Matrices"
   ]
  },
  {
   "cell_type": "code",
   "execution_count": null,
   "metadata": {},
   "outputs": [],
   "source": [
    "# 2.2 EXAMPLE 1\n",
    "A = [[1, 2, 3], # A has 2 rows and 3 columns\n",
    "     [4, 5, 6]]\n",
    "\n",
    "b = [[1, 2], # B has 3 rows and 2 columns\n",
    "     [3, 4],\n",
    "     [5, 6]]"
   ]
  },
  {
   "cell_type": "code",
   "execution_count": null,
   "metadata": {},
   "outputs": [],
   "source": [
    "# 2.2 EXAMPLE 2\n",
    "def shape(A):\n",
    "    num_rows = len(A)\n",
    "    num_cols = len(A[0]) if A else 0 # number of elements in first row\n",
    "    return num_rows, num_cols\n"
   ]
  },
  {
   "cell_type": "markdown",
   "metadata": {},
   "source": [
    "---"
   ]
  },
  {
   "cell_type": "markdown",
   "metadata": {},
   "source": [
    "# 3. Obtaining Data"
   ]
  },
  {
   "cell_type": "markdown",
   "metadata": {},
   "source": [
    "## 3.1 Reading Files"
   ]
  },
  {
   "cell_type": "markdown",
   "metadata": {},
   "source": [
    "### 3.1.1 The basics of text files"
   ]
  },
  {
   "cell_type": "code",
   "execution_count": null,
   "metadata": {},
   "outputs": [],
   "source": [
    "# 3.1.1 EXAMPLE 1\n",
    "# 'r' means read-only\n",
    "file_for_reading = open('reading_file.txt', 'r')\n",
    "\n",
    "# 'w' is write—will destroy the file if it already exists!\n",
    "file_for_writing = open('writing_file.txt', 'w')\n",
    "\n",
    "# 'a' is append—for adding to the end of the file\n",
    "file_for_appending = open('appending_file.txt', 'a')\n",
    "\n",
    "# don't forget to close your files when you're done\n",
    "file_for_writing.close()"
   ]
  },
  {
   "cell_type": "code",
   "execution_count": null,
   "metadata": {},
   "outputs": [],
   "source": [
    "# 3.1.1 EXAMPLE 2\n",
    "with open(\"reading_file.txt\",'r') as file:\n",
    "    data = function_that_gets_data_from(file)\n",
    "    \n",
    "    \n",
    "for line in file:\n",
    "    print(line)\n",
    "\n",
    "\n",
    "# at this point f has already been closed, so don't try to use it\n",
    "process(data)"
   ]
  },
  {
   "cell_type": "markdown",
   "metadata": {},
   "source": [
    "### 3.1.2 Delimited Files"
   ]
  },
  {
   "cell_type": "code",
   "execution_count": null,
   "metadata": {},
   "outputs": [],
   "source": [
    "def process(*args):\n",
    "    pass\n",
    "\n",
    "# 3.1.2 EXAMPLE 1\n",
    "import csv\n",
    "\n",
    "with open('tab_delimited_stock_prices.txt', 'r') as f: #f = \"tab_dlmts_stck_prc.txt\"\n",
    "    reader = csv.reader(f, delimiter=' ')\n",
    "    for row in reader:\n",
    "        date = row[0]\n",
    "        symbol = row[1]\n",
    "        closing_price = float(row[2])\n",
    "        process(date, symbol, closing_price)"
   ]
  },
  {
   "cell_type": "code",
   "execution_count": null,
   "metadata": {},
   "outputs": [],
   "source": [
    "# 3.1.2 EXAMPLE 2\n",
    "with open('colon_delimited_stock_prices.txt', 'r') as f:\n",
    "    reader = csv.DictReader(f, delimiter=':')\n",
    "    for row in reader:\n",
    "        date = row[\"date\"]\n",
    "        symbol = row[\"symbol\"]\n",
    "        closing_price = float(row[\"closing_price\"])\n",
    "        process(date, symbol, closing_price)"
   ]
  },
  {
   "cell_type": "code",
   "execution_count": null,
   "metadata": {},
   "outputs": [],
   "source": [
    "# 3.1.2 EXAMPLE 2\n",
    "with open('colon_delimited_stock_prices.txt', 'r') as f:\n",
    "    reader = csv.DictReader(f, delimiter=',')\n",
    "    for row in reader:\n",
    "        date = row[\"date\"]\n",
    "        symbol = row[\"symbol\"]\n",
    "        closing_price = float(row[\"closing_price\"])\n",
    "        process(date, symbol, closing_price)"
   ]
  },
  {
   "cell_type": "markdown",
   "metadata": {},
   "source": [
    "## 3.2 Web Scraping"
   ]
  },
  {
   "cell_type": "code",
   "execution_count": 11,
   "metadata": {},
   "outputs": [
    {
     "name": "stdout",
     "output_type": "stream",
     "text": [
      "<!DOCTYPE html>\n",
      "<html><head>\n",
      "    <title>Example Domain</title>\n",
      "\n",
      "    <meta charset=\"utf-8\"/>\n",
      "    <meta content=\"text/html; charset=utf-8\" http-equiv=\"Content-type\"/>\n",
      "    <meta content=\"width=device-width, initial-scale=1\" name=\"viewport\"/>\n",
      "    <style type=\"text/css\">\n",
      "    body {\n",
      "        background-color: #f0f0f2;\n",
      "        margin: 0;\n",
      "        padding: 0;\n",
      "        font-family: -apple-system, system-ui, BlinkMacSystemFont, \"Segoe UI\", \"Open Sans\", \"Helvetica Neue\", Helvetica, Arial, sans-serif;\n",
      "        \n",
      "    }\n",
      "    div {\n",
      "        width: 600px;\n",
      "        margin: 5em auto;\n",
      "        padding: 2em;\n",
      "        background-color: #fdfdff;\n",
      "        border-radius: 0.5em;\n",
      "        box-shadow: 2px 3px 7px 2px rgba(0,0,0,0.02);\n",
      "    }\n",
      "    a:link, a:visited {\n",
      "        color: #38488f;\n",
      "        text-decoration: none;\n",
      "    }\n",
      "    @media (max-width: 700px) {\n",
      "        div {\n",
      "            margin: 0 auto;\n",
      "            width: auto;\n",
      "        }\n",
      "    }\n",
      "    </style>    \n",
      "</head>\n",
      "\n",
      "<body>\n",
      "<div>\n",
      "    <h1>Example Domain</h1>\n",
      "    <p>This domain is for use in illustrative examples in documents. You may use this\n",
      "    domain in literature without prior coordination or asking for permission.</p>\n",
      "    <p><a href=\"https://www.iana.org/domains/example\">More information...</a></p>\n",
      "</div>\n",
      "\n",
      "\n",
      "</body></html>\n"
     ]
    }
   ],
   "source": [
    "# 3.2 EXAMPLE 1\n",
    "from bs4 import BeautifulSoup\n",
    "import requests\n",
    "html = requests.get(\"http://www.example.com\").text\n",
    "soup = BeautifulSoup(html, 'html5lib') \n",
    "print(soup)"
   ]
  },
  {
   "cell_type": "code",
   "execution_count": null,
   "metadata": {},
   "outputs": [],
   "source": [
    "# 3.2 EXAMPLE 2\n",
    "first_paragraph = soup.find('p') # or just soup.p"
   ]
  },
  {
   "cell_type": "code",
   "execution_count": null,
   "metadata": {},
   "outputs": [],
   "source": [
    "# 3.2 EXAMPLE 3\n",
    "first_paragraph_text = soup.p.text\n",
    "first_paragraph_words = soup.p.text.split()"
   ]
  },
  {
   "cell_type": "code",
   "execution_count": null,
   "metadata": {},
   "outputs": [],
   "source": [
    "# 3.2 EXAMPLE 4\n",
    "first_paragraph_id = soup.p['id'] # raises KeyError if no 'id'\n",
    "first_paragraph_id2 = soup.p.get('id') # returns None if no 'id'"
   ]
  },
  {
   "cell_type": "code",
   "execution_count": null,
   "metadata": {},
   "outputs": [],
   "source": [
    "# 3.2 EXAMPLE 5\n",
    "all_paragraphs = soup.find_all('p') # or just soup('p')\n",
    "paragraphs_with_ids = [p for p in soup('p') if p.get('id')]"
   ]
  },
  {
   "cell_type": "code",
   "execution_count": null,
   "metadata": {},
   "outputs": [],
   "source": [
    "# 3.2 EXAMPLE 6\n",
    "important_paragraphs = soup('p', {'class' : 'important'})\n",
    "important_paragraphs2 = soup('p', 'important')\n",
    "important_paragraphs3 = [p for p in soup('p') if 'important' in p.get('class', [])]"
   ]
  },
  {
   "cell_type": "markdown",
   "metadata": {},
   "source": [
    "## 3.3 Using APIs"
   ]
  },
  {
   "cell_type": "markdown",
   "metadata": {},
   "source": [
    "### 3.3.1 JSON (and XML)"
   ]
  },
  {
   "cell_type": "markdown",
   "metadata": {},
   "source": [
    "```\n",
    "{ \"title\" : \"Data Science Book\",\n",
    "\"author\" : \"Joel Grus\",\n",
    "\"publicationYear\" : 2014,\n",
    "\"topics\" : [ \"data\", \"science\", \"data science\"] }\n",
    "```"
   ]
  },
  {
   "cell_type": "code",
   "execution_count": 12,
   "metadata": {},
   "outputs": [
    {
     "name": "stdout",
     "output_type": "stream",
     "text": [
      "{'title': 'Data Science Book', 'author': 'Joel Grus', 'publicationYear': 2014, 'topics': ['data', 'science', 'data science']}\n",
      "<class 'dict'>\n"
     ]
    }
   ],
   "source": [
    "# 3.3.1 EXAMPLE 1\n",
    "import json\n",
    "serialized = \"\"\"{ \"title\" : \"Data Science Book\",\n",
    "\"author\" : \"Joel Grus\",\n",
    "\"publicationYear\" : 2014,\n",
    "\"topics\" : [ \"data\", \"science\", \"data science\"] }\"\"\"\n",
    "\n",
    "# parse the JSON to create a Python dict\n",
    "deserialized = json.loads(serialized)\n",
    "\n",
    "if \"data science\" in deserialized[\"topics\"]:\n",
    "    print(deserialized)\n",
    "    \n",
    "print(type(deserialized))"
   ]
  },
  {
   "cell_type": "markdown",
   "metadata": {},
   "source": [
    "```\n",
    "<Book>\n",
    "<Title>Data Science Book</Title>\n",
    "<Author>Joel Grus</Author>\n",
    "<PublicationYear>2014</PublicationYear>\n",
    "<Topics>\n",
    "<Topic>data</Topic>\n",
    "<Topic>science</Topic>\n",
    "<Topic>data science</Topic>\n",
    "</Topics>\n",
    "</Book>\n",
    "```"
   ]
  },
  {
   "cell_type": "markdown",
   "metadata": {},
   "source": [
    "### 3.3.2 Using unauthenticated APIs"
   ]
  },
  {
   "cell_type": "code",
   "execution_count": 13,
   "metadata": {},
   "outputs": [
    {
     "name": "stdout",
     "output_type": "stream",
     "text": [
      "[\n",
      "      {\n",
      "            \"id\": 392401078,\n",
      "            \"node_id\": \"MDEwOlJlcG9zaXRvcnkzOTI0MDEwNzg=\",\n",
      "            \"name\": \"Cold-Website-d1\",\n",
      "            \"full_name\": \"dravadhis/Cold-Website-d1\",\n",
      "            \"private\": false,\n",
      "            \"owner\": {\n",
      "                  \"login\": \"dravadhis\",\n",
      "                  \"id\": 56121942,\n",
      "                  \"node_id\": \"MDQ6VXNlcjU2MTIxOTQy\",\n",
      "                  \"avatar_url\": \"https://avatars.githubusercontent.com/u/56121942?v=4\",\n",
      "                  \"gravatar_id\": \"\",\n",
      "                  \"url\": \"https://api.github.com/users/dravadhis\",\n",
      "                  \"html_url\": \"https://github.com/dravadhis\",\n",
      "                  \"followers_url\": \"https://api.github.com/users/dravadhis/followers\",\n",
      "                  \"following_url\": \"https://api.github.com/users/dravadhis/following{/other_user}\",\n",
      "                  \"gists_url\": \"https://api.github.com/users/dravadhis/gists{/gist_id}\",\n",
      "                  \"starred_url\": \"https://api.github.com/users/dravadhis/starred{/owner}{/repo}\",\n",
      "                  \"subscriptions_url\": \"https://api.github.com/users/dravadhis/subscriptions\",\n",
      "                  \"organizations_url\": \"https://api.github.com/users/dravadhis/orgs\",\n",
      "                  \"repos_url\": \"https://api.github.com/users/dravadhis/repos\",\n",
      "                  \"events_url\": \"https://api.github.com/users/dravadhis/events{/privacy}\",\n",
      "                  \"received_events_url\": \"https://api.github.com/users/dravadhis/received_events\",\n",
      "                  \"type\": \"User\",\n",
      "                  \"site_admin\": false\n",
      "            },\n",
      "            \"html_url\": \"https://github.com/dravadhis/Cold-Website-d1\",\n",
      "            \"description\": \"The website for Cold - the Computer Science Club at School of Engineering, JNU\",\n",
      "            \"fork\": false,\n",
      "            \"url\": \"https://api.github.com/repos/dravadhis/Cold-Website-d1\",\n",
      "            \"forks_url\": \"https://api.github.com/repos/dravadhis/Cold-Website-d1/forks\",\n",
      "            \"keys_url\": \"https://api.github.com/repos/dravadhis/Cold-Website-d1/keys{/key_id}\",\n",
      "            \"collaborators_url\": \"https://api.github.com/repos/dravadhis/Cold-Website-d1/collaborators{/collaborator}\",\n",
      "            \"teams_url\": \"https://api.github.com/repos/dravadhis/Cold-Website-d1/teams\",\n",
      "            \"hooks_url\": \"https://api.github.com/repos/dravadhis/Cold-Website-d1/hooks\",\n",
      "            \"issue_events_url\": \"https://api.github.com/repos/dravadhis/Cold-Website-d1/issues/events{/number}\",\n",
      "            \"events_url\": \"https://api.github.com/repos/dravadhis/Cold-Website-d1/events\",\n",
      "            \"assignees_url\": \"https://api.github.com/repos/dravadhis/Cold-Website-d1/assignees{/user}\",\n",
      "            \"branches_url\": \"https://api.github.com/repos/dravadhis/Cold-Website-d1/branches{/branch}\",\n",
      "            \"tags_url\": \"https://api.github.com/repos/dravadhis/Cold-Website-d1/tags\",\n",
      "            \"blobs_url\": \"https://api.github.com/repos/dravadhis/Cold-Website-d1/git/blobs{/sha}\",\n",
      "            \"git_tags_url\": \"https://api.github.com/repos/dravadhis/Cold-Website-d1/git/tags{/sha}\",\n",
      "            \"git_refs_url\": \"https://api.github.com/repos/dravadhis/Cold-Website-d1/git/refs{/sha}\",\n",
      "            \"trees_url\": \"https://api.github.com/repos/dravadhis/Cold-Website-d1/git/trees{/sha}\",\n",
      "            \"statuses_url\": \"https://api.github.com/repos/dravadhis/Cold-Website-d1/statuses/{sha}\",\n",
      "            \"languages_url\": \"https://api.github.com/repos/dravadhis/Cold-Website-d1/languages\",\n",
      "            \"stargazers_url\": \"https://api.github.com/repos/dravadhis/Cold-Website-d1/stargazers\",\n",
      "            \"contributors_url\": \"https://api.github.com/repos/dravadhis/Cold-Website-d1/contributors\",\n",
      "            \"subscribers_url\": \"https://api.github.com/repos/dravadhis/Cold-Website-d1/subscribers\",\n",
      "            \"subscription_url\": \"https://api.github.com/repos/dravadhis/Cold-Website-d1/subscription\",\n",
      "            \"commits_url\": \"https://api.github.com/repos/dravadhis/Cold-Website-d1/commits{/sha}\",\n",
      "            \"git_commits_url\": \"https://api.github.com/repos/dravadhis/Cold-Website-d1/git/commits{/sha}\",\n",
      "            \"comments_url\": \"https://api.github.com/repos/dravadhis/Cold-Website-d1/comments{/number}\",\n",
      "            \"issue_comment_url\": \"https://api.github.com/repos/dravadhis/Cold-Website-d1/issues/comments{/number}\",\n",
      "            \"contents_url\": \"https://api.github.com/repos/dravadhis/Cold-Website-d1/contents/{+path}\",\n",
      "            \"compare_url\": \"https://api.github.com/repos/dravadhis/Cold-Website-d1/compare/{base}...{head}\",\n",
      "            \"merges_url\": \"https://api.github.com/repos/dravadhis/Cold-Website-d1/merges\",\n",
      "            \"archive_url\": \"https://api.github.com/repos/dravadhis/Cold-Website-d1/{archive_format}{/ref}\",\n",
      "            \"downloads_url\": \"https://api.github.com/repos/dravadhis/Cold-Website-d1/downloads\",\n",
      "            \"issues_url\": \"https://api.github.com/repos/dravadhis/Cold-Website-d1/issues{/number}\",\n",
      "            \"pulls_url\": \"https://api.github.com/repos/dravadhis/Cold-Website-d1/pulls{/number}\",\n",
      "            \"milestones_url\": \"https://api.github.com/repos/dravadhis/Cold-Website-d1/milestones{/number}\",\n",
      "            \"notifications_url\": \"https://api.github.com/repos/dravadhis/Cold-Website-d1/notifications{?since,all,participating}\",\n",
      "            \"labels_url\": \"https://api.github.com/repos/dravadhis/Cold-Website-d1/labels{/name}\",\n",
      "            \"releases_url\": \"https://api.github.com/repos/dravadhis/Cold-Website-d1/releases{/id}\",\n",
      "            \"deployments_url\": \"https://api.github.com/repos/dravadhis/Cold-Website-d1/deployments\",\n",
      "            \"created_at\": \"2021-08-03T17:33:20Z\",\n",
      "            \"updated_at\": \"2021-08-10T08:26:14Z\",\n",
      "            \"pushed_at\": \"2021-06-12T00:40:16Z\",\n",
      "            \"git_url\": \"git://github.com/dravadhis/Cold-Website-d1.git\",\n",
      "            \"ssh_url\": \"git@github.com:dravadhis/Cold-Website-d1.git\",\n",
      "            \"clone_url\": \"https://github.com/dravadhis/Cold-Website-d1.git\",\n",
      "            \"svn_url\": \"https://github.com/dravadhis/Cold-Website-d1\",\n",
      "            \"homepage\": \"https://jnu-cold.herokuapp.com/\",\n",
      "            \"size\": 29299,\n",
      "            \"stargazers_count\": 0,\n",
      "            \"watchers_count\": 0,\n",
      "            \"language\": null,\n",
      "            \"has_issues\": false,\n",
      "            \"has_projects\": true,\n",
      "            \"has_downloads\": true,\n",
      "            \"has_wiki\": true,\n",
      "            \"has_pages\": false,\n",
      "            \"forks_count\": 0,\n",
      "            \"mirror_url\": null,\n",
      "            \"archived\": false,\n",
      "            \"disabled\": false,\n",
      "            \"open_issues_count\": 0,\n",
      "            \"license\": null,\n",
      "            \"allow_forking\": true,\n",
      "            \"forks\": 0,\n",
      "            \"open_issues\": 0,\n",
      "            \"watchers\": 0,\n",
      "            \"default_branch\": \"main\"\n",
      "      },\n",
      "      {\n",
      "            \"id\": 296274244,\n",
      "            \"node_id\": \"MDEwOlJlcG9zaXRvcnkyOTYyNzQyNDQ=\",\n",
      "            \"name\": \"dravadhis\",\n",
      "            \"full_name\": \"dravadhis/dravadhis\",\n",
      "            \"private\": false,\n",
      "            \"owner\": {\n",
      "                  \"login\": \"dravadhis\",\n",
      "                  \"id\": 56121942,\n",
      "                  \"node_id\": \"MDQ6VXNlcjU2MTIxOTQy\",\n",
      "                  \"avatar_url\": \"https://avatars.githubusercontent.com/u/56121942?v=4\",\n",
      "                  \"gravatar_id\": \"\",\n",
      "                  \"url\": \"https://api.github.com/users/dravadhis\",\n",
      "                  \"html_url\": \"https://github.com/dravadhis\",\n",
      "                  \"followers_url\": \"https://api.github.com/users/dravadhis/followers\",\n",
      "                  \"following_url\": \"https://api.github.com/users/dravadhis/following{/other_user}\",\n",
      "                  \"gists_url\": \"https://api.github.com/users/dravadhis/gists{/gist_id}\",\n",
      "                  \"starred_url\": \"https://api.github.com/users/dravadhis/starred{/owner}{/repo}\",\n",
      "                  \"subscriptions_url\": \"https://api.github.com/users/dravadhis/subscriptions\",\n",
      "                  \"organizations_url\": \"https://api.github.com/users/dravadhis/orgs\",\n",
      "                  \"repos_url\": \"https://api.github.com/users/dravadhis/repos\",\n",
      "                  \"events_url\": \"https://api.github.com/users/dravadhis/events{/privacy}\",\n",
      "                  \"received_events_url\": \"https://api.github.com/users/dravadhis/received_events\",\n",
      "                  \"type\": \"User\",\n",
      "                  \"site_admin\": false\n",
      "            },\n",
      "            \"html_url\": \"https://github.com/dravadhis/dravadhis\",\n",
      "            \"description\": null,\n",
      "            \"fork\": false,\n",
      "            \"url\": \"https://api.github.com/repos/dravadhis/dravadhis\",\n",
      "            \"forks_url\": \"https://api.github.com/repos/dravadhis/dravadhis/forks\",\n",
      "            \"keys_url\": \"https://api.github.com/repos/dravadhis/dravadhis/keys{/key_id}\",\n",
      "            \"collaborators_url\": \"https://api.github.com/repos/dravadhis/dravadhis/collaborators{/collaborator}\",\n",
      "            \"teams_url\": \"https://api.github.com/repos/dravadhis/dravadhis/teams\",\n",
      "            \"hooks_url\": \"https://api.github.com/repos/dravadhis/dravadhis/hooks\",\n",
      "            \"issue_events_url\": \"https://api.github.com/repos/dravadhis/dravadhis/issues/events{/number}\",\n",
      "            \"events_url\": \"https://api.github.com/repos/dravadhis/dravadhis/events\",\n",
      "            \"assignees_url\": \"https://api.github.com/repos/dravadhis/dravadhis/assignees{/user}\",\n",
      "            \"branches_url\": \"https://api.github.com/repos/dravadhis/dravadhis/branches{/branch}\",\n",
      "            \"tags_url\": \"https://api.github.com/repos/dravadhis/dravadhis/tags\",\n",
      "            \"blobs_url\": \"https://api.github.com/repos/dravadhis/dravadhis/git/blobs{/sha}\",\n",
      "            \"git_tags_url\": \"https://api.github.com/repos/dravadhis/dravadhis/git/tags{/sha}\",\n",
      "            \"git_refs_url\": \"https://api.github.com/repos/dravadhis/dravadhis/git/refs{/sha}\",\n",
      "            \"trees_url\": \"https://api.github.com/repos/dravadhis/dravadhis/git/trees{/sha}\",\n",
      "            \"statuses_url\": \"https://api.github.com/repos/dravadhis/dravadhis/statuses/{sha}\",\n",
      "            \"languages_url\": \"https://api.github.com/repos/dravadhis/dravadhis/languages\",\n",
      "            \"stargazers_url\": \"https://api.github.com/repos/dravadhis/dravadhis/stargazers\",\n",
      "            \"contributors_url\": \"https://api.github.com/repos/dravadhis/dravadhis/contributors\",\n",
      "            \"subscribers_url\": \"https://api.github.com/repos/dravadhis/dravadhis/subscribers\",\n",
      "            \"subscription_url\": \"https://api.github.com/repos/dravadhis/dravadhis/subscription\",\n",
      "            \"commits_url\": \"https://api.github.com/repos/dravadhis/dravadhis/commits{/sha}\",\n",
      "            \"git_commits_url\": \"https://api.github.com/repos/dravadhis/dravadhis/git/commits{/sha}\",\n",
      "            \"comments_url\": \"https://api.github.com/repos/dravadhis/dravadhis/comments{/number}\",\n",
      "            \"issue_comment_url\": \"https://api.github.com/repos/dravadhis/dravadhis/issues/comments{/number}\",\n",
      "            \"contents_url\": \"https://api.github.com/repos/dravadhis/dravadhis/contents/{+path}\",\n",
      "            \"compare_url\": \"https://api.github.com/repos/dravadhis/dravadhis/compare/{base}...{head}\",\n",
      "            \"merges_url\": \"https://api.github.com/repos/dravadhis/dravadhis/merges\",\n",
      "            \"archive_url\": \"https://api.github.com/repos/dravadhis/dravadhis/{archive_format}{/ref}\",\n",
      "            \"downloads_url\": \"https://api.github.com/repos/dravadhis/dravadhis/downloads\",\n",
      "            \"issues_url\": \"https://api.github.com/repos/dravadhis/dravadhis/issues{/number}\",\n",
      "            \"pulls_url\": \"https://api.github.com/repos/dravadhis/dravadhis/pulls{/number}\",\n",
      "            \"milestones_url\": \"https://api.github.com/repos/dravadhis/dravadhis/milestones{/number}\",\n",
      "            \"notifications_url\": \"https://api.github.com/repos/dravadhis/dravadhis/notifications{?since,all,participating}\",\n",
      "            \"labels_url\": \"https://api.github.com/repos/dravadhis/dravadhis/labels{/name}\",\n",
      "            \"releases_url\": \"https://api.github.com/repos/dravadhis/dravadhis/releases{/id}\",\n",
      "            \"deployments_url\": \"https://api.github.com/repos/dravadhis/dravadhis/deployments\",\n",
      "            \"created_at\": \"2020-09-17T09:04:12Z\",\n",
      "            \"updated_at\": \"2021-05-19T19:39:25Z\",\n",
      "            \"pushed_at\": \"2021-03-02T04:00:46Z\",\n",
      "            \"git_url\": \"git://github.com/dravadhis/dravadhis.git\",\n",
      "            \"ssh_url\": \"git@github.com:dravadhis/dravadhis.git\",\n",
      "            \"clone_url\": \"https://github.com/dravadhis/dravadhis.git\",\n",
      "            \"svn_url\": \"https://github.com/dravadhis/dravadhis\",\n",
      "            \"homepage\": null,\n",
      "            \"size\": 20,\n",
      "            \"stargazers_count\": 0,\n",
      "            \"watchers_count\": 0,\n",
      "            \"language\": null,\n",
      "            \"has_issues\": true,\n",
      "            \"has_projects\": true,\n",
      "            \"has_downloads\": true,\n",
      "            \"has_wiki\": true,\n",
      "            \"has_pages\": false,\n",
      "            \"forks_count\": 0,\n",
      "            \"mirror_url\": null,\n",
      "            \"archived\": false,\n",
      "            \"disabled\": false,\n",
      "            \"open_issues_count\": 0,\n",
      "            \"license\": null,\n",
      "            \"allow_forking\": true,\n",
      "            \"forks\": 0,\n",
      "            \"open_issues\": 0,\n",
      "            \"watchers\": 0,\n",
      "            \"default_branch\": \"master\"\n",
      "      },\n",
      "      {\n",
      "            \"id\": 390622680,\n",
      "            \"node_id\": \"MDEwOlJlcG9zaXRvcnkzOTA2MjI2ODA=\",\n",
      "            \"name\": \"dravadhis.github.io\",\n",
      "            \"full_name\": \"dravadhis/dravadhis.github.io\",\n",
      "            \"private\": false,\n",
      "            \"owner\": {\n",
      "                  \"login\": \"dravadhis\",\n",
      "                  \"id\": 56121942,\n",
      "                  \"node_id\": \"MDQ6VXNlcjU2MTIxOTQy\",\n",
      "                  \"avatar_url\": \"https://avatars.githubusercontent.com/u/56121942?v=4\",\n",
      "                  \"gravatar_id\": \"\",\n",
      "                  \"url\": \"https://api.github.com/users/dravadhis\",\n",
      "                  \"html_url\": \"https://github.com/dravadhis\",\n",
      "                  \"followers_url\": \"https://api.github.com/users/dravadhis/followers\",\n",
      "                  \"following_url\": \"https://api.github.com/users/dravadhis/following{/other_user}\",\n",
      "                  \"gists_url\": \"https://api.github.com/users/dravadhis/gists{/gist_id}\",\n",
      "                  \"starred_url\": \"https://api.github.com/users/dravadhis/starred{/owner}{/repo}\",\n",
      "                  \"subscriptions_url\": \"https://api.github.com/users/dravadhis/subscriptions\",\n",
      "                  \"organizations_url\": \"https://api.github.com/users/dravadhis/orgs\",\n",
      "                  \"repos_url\": \"https://api.github.com/users/dravadhis/repos\",\n",
      "                  \"events_url\": \"https://api.github.com/users/dravadhis/events{/privacy}\",\n",
      "                  \"received_events_url\": \"https://api.github.com/users/dravadhis/received_events\",\n",
      "                  \"type\": \"User\",\n",
      "                  \"site_admin\": false\n",
      "            },\n",
      "            \"html_url\": \"https://github.com/dravadhis/dravadhis.github.io\",\n",
      "            \"description\": \"\\ud83d\\udc4b Hello, and welcome to one of my \\ud83c\\udfe1 homes on the web! This repository contains the \\u2770 \\u2771 code for my blog cum personal website.\",\n",
      "            \"fork\": false,\n",
      "            \"url\": \"https://api.github.com/repos/dravadhis/dravadhis.github.io\",\n",
      "            \"forks_url\": \"https://api.github.com/repos/dravadhis/dravadhis.github.io/forks\",\n",
      "            \"keys_url\": \"https://api.github.com/repos/dravadhis/dravadhis.github.io/keys{/key_id}\",\n",
      "            \"collaborators_url\": \"https://api.github.com/repos/dravadhis/dravadhis.github.io/collaborators{/collaborator}\",\n",
      "            \"teams_url\": \"https://api.github.com/repos/dravadhis/dravadhis.github.io/teams\",\n",
      "            \"hooks_url\": \"https://api.github.com/repos/dravadhis/dravadhis.github.io/hooks\",\n",
      "            \"issue_events_url\": \"https://api.github.com/repos/dravadhis/dravadhis.github.io/issues/events{/number}\",\n",
      "            \"events_url\": \"https://api.github.com/repos/dravadhis/dravadhis.github.io/events\",\n",
      "            \"assignees_url\": \"https://api.github.com/repos/dravadhis/dravadhis.github.io/assignees{/user}\",\n",
      "            \"branches_url\": \"https://api.github.com/repos/dravadhis/dravadhis.github.io/branches{/branch}\",\n",
      "            \"tags_url\": \"https://api.github.com/repos/dravadhis/dravadhis.github.io/tags\",\n",
      "            \"blobs_url\": \"https://api.github.com/repos/dravadhis/dravadhis.github.io/git/blobs{/sha}\",\n",
      "            \"git_tags_url\": \"https://api.github.com/repos/dravadhis/dravadhis.github.io/git/tags{/sha}\",\n",
      "            \"git_refs_url\": \"https://api.github.com/repos/dravadhis/dravadhis.github.io/git/refs{/sha}\",\n",
      "            \"trees_url\": \"https://api.github.com/repos/dravadhis/dravadhis.github.io/git/trees{/sha}\",\n",
      "            \"statuses_url\": \"https://api.github.com/repos/dravadhis/dravadhis.github.io/statuses/{sha}\",\n",
      "            \"languages_url\": \"https://api.github.com/repos/dravadhis/dravadhis.github.io/languages\",\n",
      "            \"stargazers_url\": \"https://api.github.com/repos/dravadhis/dravadhis.github.io/stargazers\",\n",
      "            \"contributors_url\": \"https://api.github.com/repos/dravadhis/dravadhis.github.io/contributors\",\n",
      "            \"subscribers_url\": \"https://api.github.com/repos/dravadhis/dravadhis.github.io/subscribers\",\n",
      "            \"subscription_url\": \"https://api.github.com/repos/dravadhis/dravadhis.github.io/subscription\",\n",
      "            \"commits_url\": \"https://api.github.com/repos/dravadhis/dravadhis.github.io/commits{/sha}\",\n",
      "            \"git_commits_url\": \"https://api.github.com/repos/dravadhis/dravadhis.github.io/git/commits{/sha}\",\n",
      "            \"comments_url\": \"https://api.github.com/repos/dravadhis/dravadhis.github.io/comments{/number}\",\n",
      "            \"issue_comment_url\": \"https://api.github.com/repos/dravadhis/dravadhis.github.io/issues/comments{/number}\",\n",
      "            \"contents_url\": \"https://api.github.com/repos/dravadhis/dravadhis.github.io/contents/{+path}\",\n",
      "            \"compare_url\": \"https://api.github.com/repos/dravadhis/dravadhis.github.io/compare/{base}...{head}\",\n",
      "            \"merges_url\": \"https://api.github.com/repos/dravadhis/dravadhis.github.io/merges\",\n",
      "            \"archive_url\": \"https://api.github.com/repos/dravadhis/dravadhis.github.io/{archive_format}{/ref}\",\n",
      "            \"downloads_url\": \"https://api.github.com/repos/dravadhis/dravadhis.github.io/downloads\",\n",
      "            \"issues_url\": \"https://api.github.com/repos/dravadhis/dravadhis.github.io/issues{/number}\",\n",
      "            \"pulls_url\": \"https://api.github.com/repos/dravadhis/dravadhis.github.io/pulls{/number}\",\n",
      "            \"milestones_url\": \"https://api.github.com/repos/dravadhis/dravadhis.github.io/milestones{/number}\",\n",
      "            \"notifications_url\": \"https://api.github.com/repos/dravadhis/dravadhis.github.io/notifications{?since,all,participating}\",\n",
      "            \"labels_url\": \"https://api.github.com/repos/dravadhis/dravadhis.github.io/labels{/name}\",\n",
      "            \"releases_url\": \"https://api.github.com/repos/dravadhis/dravadhis.github.io/releases{/id}\",\n",
      "            \"deployments_url\": \"https://api.github.com/repos/dravadhis/dravadhis.github.io/deployments\",\n",
      "            \"created_at\": \"2021-07-29T06:22:26Z\",\n",
      "            \"updated_at\": \"2021-08-04T20:09:49Z\",\n",
      "            \"pushed_at\": \"2021-08-04T20:05:20Z\",\n",
      "            \"git_url\": \"git://github.com/dravadhis/dravadhis.github.io.git\",\n",
      "            \"ssh_url\": \"git@github.com:dravadhis/dravadhis.github.io.git\",\n",
      "            \"clone_url\": \"https://github.com/dravadhis/dravadhis.github.io.git\",\n",
      "            \"svn_url\": \"https://github.com/dravadhis/dravadhis.github.io\",\n",
      "            \"homepage\": \"https://dravadhis.github.io\",\n",
      "            \"size\": 17460,\n",
      "            \"stargazers_count\": 0,\n",
      "            \"watchers_count\": 0,\n",
      "            \"language\": \"Ruby\",\n",
      "            \"has_issues\": true,\n",
      "            \"has_projects\": true,\n",
      "            \"has_downloads\": true,\n",
      "            \"has_wiki\": true,\n",
      "            \"has_pages\": true,\n",
      "            \"forks_count\": 0,\n",
      "            \"mirror_url\": null,\n",
      "            \"archived\": false,\n",
      "            \"disabled\": false,\n",
      "            \"open_issues_count\": 0,\n",
      "            \"license\": null,\n",
      "            \"allow_forking\": true,\n",
      "            \"forks\": 0,\n",
      "            \"open_issues\": 0,\n",
      "            \"watchers\": 0,\n",
      "            \"default_branch\": \"master\"\n",
      "      },\n",
      "      {\n",
      "            \"id\": 392723134,\n",
      "            \"node_id\": \"MDEwOlJlcG9zaXRvcnkzOTI3MjMxMzQ=\",\n",
      "            \"name\": \"minimal-mistakes\",\n",
      "            \"full_name\": \"dravadhis/minimal-mistakes\",\n",
      "            \"private\": false,\n",
      "            \"owner\": {\n",
      "                  \"login\": \"dravadhis\",\n",
      "                  \"id\": 56121942,\n",
      "                  \"node_id\": \"MDQ6VXNlcjU2MTIxOTQy\",\n",
      "                  \"avatar_url\": \"https://avatars.githubusercontent.com/u/56121942?v=4\",\n",
      "                  \"gravatar_id\": \"\",\n",
      "                  \"url\": \"https://api.github.com/users/dravadhis\",\n",
      "                  \"html_url\": \"https://github.com/dravadhis\",\n",
      "                  \"followers_url\": \"https://api.github.com/users/dravadhis/followers\",\n",
      "                  \"following_url\": \"https://api.github.com/users/dravadhis/following{/other_user}\",\n",
      "                  \"gists_url\": \"https://api.github.com/users/dravadhis/gists{/gist_id}\",\n",
      "                  \"starred_url\": \"https://api.github.com/users/dravadhis/starred{/owner}{/repo}\",\n",
      "                  \"subscriptions_url\": \"https://api.github.com/users/dravadhis/subscriptions\",\n",
      "                  \"organizations_url\": \"https://api.github.com/users/dravadhis/orgs\",\n",
      "                  \"repos_url\": \"https://api.github.com/users/dravadhis/repos\",\n",
      "                  \"events_url\": \"https://api.github.com/users/dravadhis/events{/privacy}\",\n",
      "                  \"received_events_url\": \"https://api.github.com/users/dravadhis/received_events\",\n",
      "                  \"type\": \"User\",\n",
      "                  \"site_admin\": false\n",
      "            },\n",
      "            \"html_url\": \"https://github.com/dravadhis/minimal-mistakes\",\n",
      "            \"description\": \":triangular_ruler: Jekyll theme for building a personal site, blog, project documentation, or portfolio.\",\n",
      "            \"fork\": true,\n",
      "            \"url\": \"https://api.github.com/repos/dravadhis/minimal-mistakes\",\n",
      "            \"forks_url\": \"https://api.github.com/repos/dravadhis/minimal-mistakes/forks\",\n",
      "            \"keys_url\": \"https://api.github.com/repos/dravadhis/minimal-mistakes/keys{/key_id}\",\n",
      "            \"collaborators_url\": \"https://api.github.com/repos/dravadhis/minimal-mistakes/collaborators{/collaborator}\",\n",
      "            \"teams_url\": \"https://api.github.com/repos/dravadhis/minimal-mistakes/teams\",\n",
      "            \"hooks_url\": \"https://api.github.com/repos/dravadhis/minimal-mistakes/hooks\",\n",
      "            \"issue_events_url\": \"https://api.github.com/repos/dravadhis/minimal-mistakes/issues/events{/number}\",\n",
      "            \"events_url\": \"https://api.github.com/repos/dravadhis/minimal-mistakes/events\",\n",
      "            \"assignees_url\": \"https://api.github.com/repos/dravadhis/minimal-mistakes/assignees{/user}\",\n",
      "            \"branches_url\": \"https://api.github.com/repos/dravadhis/minimal-mistakes/branches{/branch}\",\n",
      "            \"tags_url\": \"https://api.github.com/repos/dravadhis/minimal-mistakes/tags\",\n",
      "            \"blobs_url\": \"https://api.github.com/repos/dravadhis/minimal-mistakes/git/blobs{/sha}\",\n",
      "            \"git_tags_url\": \"https://api.github.com/repos/dravadhis/minimal-mistakes/git/tags{/sha}\",\n",
      "            \"git_refs_url\": \"https://api.github.com/repos/dravadhis/minimal-mistakes/git/refs{/sha}\",\n",
      "            \"trees_url\": \"https://api.github.com/repos/dravadhis/minimal-mistakes/git/trees{/sha}\",\n",
      "            \"statuses_url\": \"https://api.github.com/repos/dravadhis/minimal-mistakes/statuses/{sha}\",\n",
      "            \"languages_url\": \"https://api.github.com/repos/dravadhis/minimal-mistakes/languages\",\n",
      "            \"stargazers_url\": \"https://api.github.com/repos/dravadhis/minimal-mistakes/stargazers\",\n",
      "            \"contributors_url\": \"https://api.github.com/repos/dravadhis/minimal-mistakes/contributors\",\n",
      "            \"subscribers_url\": \"https://api.github.com/repos/dravadhis/minimal-mistakes/subscribers\",\n",
      "            \"subscription_url\": \"https://api.github.com/repos/dravadhis/minimal-mistakes/subscription\",\n",
      "            \"commits_url\": \"https://api.github.com/repos/dravadhis/minimal-mistakes/commits{/sha}\",\n",
      "            \"git_commits_url\": \"https://api.github.com/repos/dravadhis/minimal-mistakes/git/commits{/sha}\",\n",
      "            \"comments_url\": \"https://api.github.com/repos/dravadhis/minimal-mistakes/comments{/number}\",\n",
      "            \"issue_comment_url\": \"https://api.github.com/repos/dravadhis/minimal-mistakes/issues/comments{/number}\",\n",
      "            \"contents_url\": \"https://api.github.com/repos/dravadhis/minimal-mistakes/contents/{+path}\",\n",
      "            \"compare_url\": \"https://api.github.com/repos/dravadhis/minimal-mistakes/compare/{base}...{head}\",\n",
      "            \"merges_url\": \"https://api.github.com/repos/dravadhis/minimal-mistakes/merges\",\n",
      "            \"archive_url\": \"https://api.github.com/repos/dravadhis/minimal-mistakes/{archive_format}{/ref}\",\n",
      "            \"downloads_url\": \"https://api.github.com/repos/dravadhis/minimal-mistakes/downloads\",\n",
      "            \"issues_url\": \"https://api.github.com/repos/dravadhis/minimal-mistakes/issues{/number}\",\n",
      "            \"pulls_url\": \"https://api.github.com/repos/dravadhis/minimal-mistakes/pulls{/number}\",\n",
      "            \"milestones_url\": \"https://api.github.com/repos/dravadhis/minimal-mistakes/milestones{/number}\",\n",
      "            \"notifications_url\": \"https://api.github.com/repos/dravadhis/minimal-mistakes/notifications{?since,all,participating}\",\n",
      "            \"labels_url\": \"https://api.github.com/repos/dravadhis/minimal-mistakes/labels{/name}\",\n",
      "            \"releases_url\": \"https://api.github.com/repos/dravadhis/minimal-mistakes/releases{/id}\",\n",
      "            \"deployments_url\": \"https://api.github.com/repos/dravadhis/minimal-mistakes/deployments\",\n",
      "            \"created_at\": \"2021-08-04T14:40:02Z\",\n",
      "            \"updated_at\": \"2021-08-04T14:40:03Z\",\n",
      "            \"pushed_at\": \"2021-08-04T09:33:09Z\",\n",
      "            \"git_url\": \"git://github.com/dravadhis/minimal-mistakes.git\",\n",
      "            \"ssh_url\": \"git@github.com:dravadhis/minimal-mistakes.git\",\n",
      "            \"clone_url\": \"https://github.com/dravadhis/minimal-mistakes.git\",\n",
      "            \"svn_url\": \"https://github.com/dravadhis/minimal-mistakes\",\n",
      "            \"homepage\": \"https://mmistakes.github.io/minimal-mistakes/\",\n",
      "            \"size\": 45310,\n",
      "            \"stargazers_count\": 0,\n",
      "            \"watchers_count\": 0,\n",
      "            \"language\": null,\n",
      "            \"has_issues\": false,\n",
      "            \"has_projects\": true,\n",
      "            \"has_downloads\": true,\n",
      "            \"has_wiki\": false,\n",
      "            \"has_pages\": false,\n",
      "            \"forks_count\": 0,\n",
      "            \"mirror_url\": null,\n",
      "            \"archived\": false,\n",
      "            \"disabled\": false,\n",
      "            \"open_issues_count\": 0,\n",
      "            \"license\": {\n",
      "                  \"key\": \"mit\",\n",
      "                  \"name\": \"MIT License\",\n",
      "                  \"spdx_id\": \"MIT\",\n",
      "                  \"url\": \"https://api.github.com/licenses/mit\",\n",
      "                  \"node_id\": \"MDc6TGljZW5zZTEz\"\n",
      "            },\n",
      "            \"allow_forking\": true,\n",
      "            \"forks\": 0,\n",
      "            \"open_issues\": 0,\n",
      "            \"watchers\": 0,\n",
      "            \"default_branch\": \"master\"\n",
      "      },\n",
      "      {\n",
      "            \"id\": 394904647,\n",
      "            \"node_id\": \"MDEwOlJlcG9zaXRvcnkzOTQ5MDQ2NDc=\",\n",
      "            \"name\": \"seweb_tracker\",\n",
      "            \"full_name\": \"dravadhis/seweb_tracker\",\n",
      "            \"private\": false,\n",
      "            \"owner\": {\n",
      "                  \"login\": \"dravadhis\",\n",
      "                  \"id\": 56121942,\n",
      "                  \"node_id\": \"MDQ6VXNlcjU2MTIxOTQy\",\n",
      "                  \"avatar_url\": \"https://avatars.githubusercontent.com/u/56121942?v=4\",\n",
      "                  \"gravatar_id\": \"\",\n",
      "                  \"url\": \"https://api.github.com/users/dravadhis\",\n",
      "                  \"html_url\": \"https://github.com/dravadhis\",\n",
      "                  \"followers_url\": \"https://api.github.com/users/dravadhis/followers\",\n",
      "                  \"following_url\": \"https://api.github.com/users/dravadhis/following{/other_user}\",\n",
      "                  \"gists_url\": \"https://api.github.com/users/dravadhis/gists{/gist_id}\",\n",
      "                  \"starred_url\": \"https://api.github.com/users/dravadhis/starred{/owner}{/repo}\",\n",
      "                  \"subscriptions_url\": \"https://api.github.com/users/dravadhis/subscriptions\",\n",
      "                  \"organizations_url\": \"https://api.github.com/users/dravadhis/orgs\",\n",
      "                  \"repos_url\": \"https://api.github.com/users/dravadhis/repos\",\n",
      "                  \"events_url\": \"https://api.github.com/users/dravadhis/events{/privacy}\",\n",
      "                  \"received_events_url\": \"https://api.github.com/users/dravadhis/received_events\",\n",
      "                  \"type\": \"User\",\n",
      "                  \"site_admin\": false\n",
      "            },\n",
      "            \"html_url\": \"https://github.com/dravadhis/seweb_tracker\",\n",
      "            \"description\": null,\n",
      "            \"fork\": false,\n",
      "            \"url\": \"https://api.github.com/repos/dravadhis/seweb_tracker\",\n",
      "            \"forks_url\": \"https://api.github.com/repos/dravadhis/seweb_tracker/forks\",\n",
      "            \"keys_url\": \"https://api.github.com/repos/dravadhis/seweb_tracker/keys{/key_id}\",\n",
      "            \"collaborators_url\": \"https://api.github.com/repos/dravadhis/seweb_tracker/collaborators{/collaborator}\",\n",
      "            \"teams_url\": \"https://api.github.com/repos/dravadhis/seweb_tracker/teams\",\n",
      "            \"hooks_url\": \"https://api.github.com/repos/dravadhis/seweb_tracker/hooks\",\n",
      "            \"issue_events_url\": \"https://api.github.com/repos/dravadhis/seweb_tracker/issues/events{/number}\",\n",
      "            \"events_url\": \"https://api.github.com/repos/dravadhis/seweb_tracker/events\",\n",
      "            \"assignees_url\": \"https://api.github.com/repos/dravadhis/seweb_tracker/assignees{/user}\",\n",
      "            \"branches_url\": \"https://api.github.com/repos/dravadhis/seweb_tracker/branches{/branch}\",\n",
      "            \"tags_url\": \"https://api.github.com/repos/dravadhis/seweb_tracker/tags\",\n",
      "            \"blobs_url\": \"https://api.github.com/repos/dravadhis/seweb_tracker/git/blobs{/sha}\",\n",
      "            \"git_tags_url\": \"https://api.github.com/repos/dravadhis/seweb_tracker/git/tags{/sha}\",\n",
      "            \"git_refs_url\": \"https://api.github.com/repos/dravadhis/seweb_tracker/git/refs{/sha}\",\n",
      "            \"trees_url\": \"https://api.github.com/repos/dravadhis/seweb_tracker/git/trees{/sha}\",\n",
      "            \"statuses_url\": \"https://api.github.com/repos/dravadhis/seweb_tracker/statuses/{sha}\",\n",
      "            \"languages_url\": \"https://api.github.com/repos/dravadhis/seweb_tracker/languages\",\n",
      "            \"stargazers_url\": \"https://api.github.com/repos/dravadhis/seweb_tracker/stargazers\",\n",
      "            \"contributors_url\": \"https://api.github.com/repos/dravadhis/seweb_tracker/contributors\",\n",
      "            \"subscribers_url\": \"https://api.github.com/repos/dravadhis/seweb_tracker/subscribers\",\n",
      "            \"subscription_url\": \"https://api.github.com/repos/dravadhis/seweb_tracker/subscription\",\n",
      "            \"commits_url\": \"https://api.github.com/repos/dravadhis/seweb_tracker/commits{/sha}\",\n",
      "            \"git_commits_url\": \"https://api.github.com/repos/dravadhis/seweb_tracker/git/commits{/sha}\",\n",
      "            \"comments_url\": \"https://api.github.com/repos/dravadhis/seweb_tracker/comments{/number}\",\n",
      "            \"issue_comment_url\": \"https://api.github.com/repos/dravadhis/seweb_tracker/issues/comments{/number}\",\n",
      "            \"contents_url\": \"https://api.github.com/repos/dravadhis/seweb_tracker/contents/{+path}\",\n",
      "            \"compare_url\": \"https://api.github.com/repos/dravadhis/seweb_tracker/compare/{base}...{head}\",\n",
      "            \"merges_url\": \"https://api.github.com/repos/dravadhis/seweb_tracker/merges\",\n",
      "            \"archive_url\": \"https://api.github.com/repos/dravadhis/seweb_tracker/{archive_format}{/ref}\",\n",
      "            \"downloads_url\": \"https://api.github.com/repos/dravadhis/seweb_tracker/downloads\",\n",
      "            \"issues_url\": \"https://api.github.com/repos/dravadhis/seweb_tracker/issues{/number}\",\n",
      "            \"pulls_url\": \"https://api.github.com/repos/dravadhis/seweb_tracker/pulls{/number}\",\n",
      "            \"milestones_url\": \"https://api.github.com/repos/dravadhis/seweb_tracker/milestones{/number}\",\n",
      "            \"notifications_url\": \"https://api.github.com/repos/dravadhis/seweb_tracker/notifications{?since,all,participating}\",\n",
      "            \"labels_url\": \"https://api.github.com/repos/dravadhis/seweb_tracker/labels{/name}\",\n",
      "            \"releases_url\": \"https://api.github.com/repos/dravadhis/seweb_tracker/releases{/id}\",\n",
      "            \"deployments_url\": \"https://api.github.com/repos/dravadhis/seweb_tracker/deployments\",\n",
      "            \"created_at\": \"2021-08-11T07:37:28Z\",\n",
      "            \"updated_at\": \"2021-08-11T07:38:00Z\",\n",
      "            \"pushed_at\": \"2021-08-11T07:37:58Z\",\n",
      "            \"git_url\": \"git://github.com/dravadhis/seweb_tracker.git\",\n",
      "            \"ssh_url\": \"git@github.com:dravadhis/seweb_tracker.git\",\n",
      "            \"clone_url\": \"https://github.com/dravadhis/seweb_tracker.git\",\n",
      "            \"svn_url\": \"https://github.com/dravadhis/seweb_tracker\",\n",
      "            \"homepage\": null,\n",
      "            \"size\": 1,\n",
      "            \"stargazers_count\": 0,\n",
      "            \"watchers_count\": 0,\n",
      "            \"language\": null,\n",
      "            \"has_issues\": true,\n",
      "            \"has_projects\": true,\n",
      "            \"has_downloads\": true,\n",
      "            \"has_wiki\": true,\n",
      "            \"has_pages\": false,\n",
      "            \"forks_count\": 0,\n",
      "            \"mirror_url\": null,\n",
      "            \"archived\": false,\n",
      "            \"disabled\": false,\n",
      "            \"open_issues_count\": 0,\n",
      "            \"license\": null,\n",
      "            \"allow_forking\": true,\n",
      "            \"forks\": 0,\n",
      "            \"open_issues\": 0,\n",
      "            \"watchers\": 0,\n",
      "            \"default_branch\": \"main\"\n",
      "      }\n",
      "]\n"
     ]
    }
   ],
   "source": [
    "# 3.3.2 EXAMPLE 1\n",
    "import requests, json\n",
    "endpoint = \"https://api.github.com/users/dravadhis/repos\"\n",
    "repos = json.loads(requests.get(endpoint).text)\n",
    "repos = json.dumps(repos, indent=6)\n",
    "print(repos)\n",
    "\n",
    "# API tokens\n",
    "# API keys\n",
    "# Other methods of API authentication\n",
    "# Postman \n",
    "# requests\n",
    "# json (python library)\n",
    "# xml\n",
    "# python-dateutil"
   ]
  },
  {
   "cell_type": "code",
   "execution_count": null,
   "metadata": {},
   "outputs": [],
   "source": [
    "# 3.3.2 EXAMPLE 2\n",
    "from collections import Counter\n",
    "from dateutil.parser import parse\n",
    "dates = [parse(repo[\"created_at\"]) for repo in repos]\n",
    "month_counts = Counter(date.month for date in dates)\n",
    "weekday_counts = Counter(date.weekday() for date in dates)"
   ]
  },
  {
   "cell_type": "markdown",
   "metadata": {},
   "source": [
    "---"
   ]
  },
  {
   "cell_type": "code",
   "execution_count": null,
   "metadata": {},
   "outputs": [],
   "source": []
  },
  {
   "cell_type": "code",
   "execution_count": null,
   "metadata": {},
   "outputs": [],
   "source": []
  },
  {
   "cell_type": "code",
   "execution_count": null,
   "metadata": {},
   "outputs": [],
   "source": []
  },
  {
   "cell_type": "code",
   "execution_count": null,
   "metadata": {},
   "outputs": [],
   "source": []
  },
  {
   "cell_type": "code",
   "execution_count": null,
   "metadata": {},
   "outputs": [],
   "source": []
  },
  {
   "cell_type": "code",
   "execution_count": null,
   "metadata": {},
   "outputs": [],
   "source": []
  },
  {
   "cell_type": "code",
   "execution_count": null,
   "metadata": {},
   "outputs": [],
   "source": []
  },
  {
   "cell_type": "code",
   "execution_count": null,
   "metadata": {},
   "outputs": [],
   "source": []
  },
  {
   "cell_type": "code",
   "execution_count": null,
   "metadata": {},
   "outputs": [],
   "source": []
  },
  {
   "cell_type": "code",
   "execution_count": null,
   "metadata": {},
   "outputs": [],
   "source": []
  },
  {
   "cell_type": "code",
   "execution_count": null,
   "metadata": {},
   "outputs": [],
   "source": []
  },
  {
   "cell_type": "code",
   "execution_count": null,
   "metadata": {},
   "outputs": [],
   "source": []
  },
  {
   "cell_type": "code",
   "execution_count": null,
   "metadata": {},
   "outputs": [],
   "source": []
  },
  {
   "cell_type": "code",
   "execution_count": null,
   "metadata": {},
   "outputs": [],
   "source": []
  },
  {
   "cell_type": "code",
   "execution_count": null,
   "metadata": {},
   "outputs": [],
   "source": []
  },
  {
   "cell_type": "code",
   "execution_count": null,
   "metadata": {},
   "outputs": [],
   "source": []
  },
  {
   "cell_type": "code",
   "execution_count": null,
   "metadata": {},
   "outputs": [],
   "source": []
  },
  {
   "cell_type": "code",
   "execution_count": null,
   "metadata": {},
   "outputs": [],
   "source": []
  },
  {
   "cell_type": "code",
   "execution_count": null,
   "metadata": {},
   "outputs": [],
   "source": []
  },
  {
   "cell_type": "code",
   "execution_count": null,
   "metadata": {},
   "outputs": [],
   "source": []
  },
  {
   "cell_type": "code",
   "execution_count": null,
   "metadata": {},
   "outputs": [],
   "source": []
  },
  {
   "cell_type": "code",
   "execution_count": null,
   "metadata": {},
   "outputs": [],
   "source": []
  },
  {
   "cell_type": "code",
   "execution_count": null,
   "metadata": {},
   "outputs": [],
   "source": []
  },
  {
   "cell_type": "code",
   "execution_count": null,
   "metadata": {},
   "outputs": [],
   "source": []
  },
  {
   "cell_type": "code",
   "execution_count": null,
   "metadata": {},
   "outputs": [],
   "source": []
  },
  {
   "cell_type": "code",
   "execution_count": null,
   "metadata": {},
   "outputs": [],
   "source": []
  },
  {
   "cell_type": "code",
   "execution_count": null,
   "metadata": {},
   "outputs": [],
   "source": []
  },
  {
   "cell_type": "code",
   "execution_count": null,
   "metadata": {},
   "outputs": [],
   "source": []
  },
  {
   "cell_type": "code",
   "execution_count": null,
   "metadata": {},
   "outputs": [],
   "source": []
  },
  {
   "cell_type": "code",
   "execution_count": null,
   "metadata": {},
   "outputs": [],
   "source": []
  },
  {
   "cell_type": "code",
   "execution_count": null,
   "metadata": {},
   "outputs": [],
   "source": []
  },
  {
   "cell_type": "code",
   "execution_count": null,
   "metadata": {},
   "outputs": [],
   "source": []
  },
  {
   "cell_type": "code",
   "execution_count": null,
   "metadata": {},
   "outputs": [],
   "source": []
  },
  {
   "cell_type": "code",
   "execution_count": null,
   "metadata": {},
   "outputs": [],
   "source": []
  },
  {
   "cell_type": "code",
   "execution_count": null,
   "metadata": {},
   "outputs": [],
   "source": []
  },
  {
   "cell_type": "code",
   "execution_count": null,
   "metadata": {},
   "outputs": [],
   "source": []
  },
  {
   "cell_type": "code",
   "execution_count": null,
   "metadata": {},
   "outputs": [],
   "source": []
  },
  {
   "cell_type": "code",
   "execution_count": null,
   "metadata": {},
   "outputs": [],
   "source": []
  },
  {
   "cell_type": "code",
   "execution_count": null,
   "metadata": {},
   "outputs": [],
   "source": []
  },
  {
   "cell_type": "code",
   "execution_count": null,
   "metadata": {},
   "outputs": [],
   "source": []
  },
  {
   "cell_type": "code",
   "execution_count": null,
   "metadata": {},
   "outputs": [],
   "source": []
  },
  {
   "cell_type": "code",
   "execution_count": null,
   "metadata": {},
   "outputs": [],
   "source": []
  },
  {
   "cell_type": "code",
   "execution_count": null,
   "metadata": {},
   "outputs": [],
   "source": []
  },
  {
   "cell_type": "code",
   "execution_count": null,
   "metadata": {},
   "outputs": [],
   "source": []
  },
  {
   "cell_type": "code",
   "execution_count": null,
   "metadata": {},
   "outputs": [],
   "source": []
  },
  {
   "cell_type": "code",
   "execution_count": null,
   "metadata": {},
   "outputs": [],
   "source": []
  },
  {
   "cell_type": "code",
   "execution_count": null,
   "metadata": {},
   "outputs": [],
   "source": []
  },
  {
   "cell_type": "code",
   "execution_count": null,
   "metadata": {},
   "outputs": [],
   "source": []
  },
  {
   "cell_type": "code",
   "execution_count": null,
   "metadata": {},
   "outputs": [],
   "source": []
  },
  {
   "cell_type": "code",
   "execution_count": null,
   "metadata": {},
   "outputs": [],
   "source": []
  },
  {
   "cell_type": "code",
   "execution_count": null,
   "metadata": {},
   "outputs": [],
   "source": []
  },
  {
   "cell_type": "code",
   "execution_count": null,
   "metadata": {},
   "outputs": [],
   "source": []
  },
  {
   "cell_type": "code",
   "execution_count": null,
   "metadata": {},
   "outputs": [],
   "source": []
  },
  {
   "cell_type": "code",
   "execution_count": null,
   "metadata": {},
   "outputs": [],
   "source": []
  },
  {
   "cell_type": "code",
   "execution_count": null,
   "metadata": {},
   "outputs": [],
   "source": []
  },
  {
   "cell_type": "code",
   "execution_count": null,
   "metadata": {},
   "outputs": [],
   "source": []
  },
  {
   "cell_type": "code",
   "execution_count": null,
   "metadata": {},
   "outputs": [],
   "source": []
  },
  {
   "cell_type": "code",
   "execution_count": null,
   "metadata": {},
   "outputs": [],
   "source": []
  },
  {
   "cell_type": "code",
   "execution_count": null,
   "metadata": {},
   "outputs": [],
   "source": []
  },
  {
   "cell_type": "code",
   "execution_count": null,
   "metadata": {},
   "outputs": [],
   "source": []
  },
  {
   "cell_type": "code",
   "execution_count": null,
   "metadata": {},
   "outputs": [],
   "source": []
  },
  {
   "cell_type": "code",
   "execution_count": null,
   "metadata": {},
   "outputs": [],
   "source": []
  },
  {
   "cell_type": "code",
   "execution_count": null,
   "metadata": {},
   "outputs": [],
   "source": []
  },
  {
   "cell_type": "code",
   "execution_count": null,
   "metadata": {},
   "outputs": [],
   "source": []
  },
  {
   "cell_type": "code",
   "execution_count": null,
   "metadata": {},
   "outputs": [],
   "source": []
  },
  {
   "cell_type": "code",
   "execution_count": null,
   "metadata": {},
   "outputs": [],
   "source": []
  },
  {
   "cell_type": "code",
   "execution_count": null,
   "metadata": {},
   "outputs": [],
   "source": []
  },
  {
   "cell_type": "code",
   "execution_count": null,
   "metadata": {},
   "outputs": [],
   "source": []
  },
  {
   "cell_type": "code",
   "execution_count": null,
   "metadata": {},
   "outputs": [],
   "source": []
  },
  {
   "cell_type": "code",
   "execution_count": null,
   "metadata": {},
   "outputs": [],
   "source": []
  },
  {
   "cell_type": "code",
   "execution_count": null,
   "metadata": {},
   "outputs": [],
   "source": []
  },
  {
   "cell_type": "code",
   "execution_count": null,
   "metadata": {},
   "outputs": [],
   "source": []
  },
  {
   "cell_type": "code",
   "execution_count": null,
   "metadata": {},
   "outputs": [],
   "source": []
  },
  {
   "cell_type": "code",
   "execution_count": null,
   "metadata": {},
   "outputs": [],
   "source": []
  },
  {
   "cell_type": "code",
   "execution_count": null,
   "metadata": {},
   "outputs": [],
   "source": []
  },
  {
   "cell_type": "code",
   "execution_count": null,
   "metadata": {},
   "outputs": [],
   "source": []
  },
  {
   "cell_type": "code",
   "execution_count": null,
   "metadata": {},
   "outputs": [],
   "source": []
  },
  {
   "cell_type": "code",
   "execution_count": null,
   "metadata": {},
   "outputs": [],
   "source": []
  },
  {
   "cell_type": "code",
   "execution_count": null,
   "metadata": {},
   "outputs": [],
   "source": []
  },
  {
   "cell_type": "code",
   "execution_count": null,
   "metadata": {},
   "outputs": [],
   "source": []
  },
  {
   "cell_type": "markdown",
   "metadata": {},
   "source": [
    "# 4. Working with Data"
   ]
  },
  {
   "cell_type": "markdown",
   "metadata": {},
   "source": [
    "## 4.1 Exploring Data"
   ]
  },
  {
   "cell_type": "markdown",
   "metadata": {},
   "source": [
    "### 4.1.1 Exploring one-dimesional data"
   ]
  },
  {
   "cell_type": "code",
   "execution_count": null,
   "metadata": {},
   "outputs": [],
   "source": [
    "# EXAMPLE 1\n",
    "import matplotlib.pyplot as plt\n",
    "import random\n",
    "import math\n",
    "\n",
    "def inverse_normal_cdf(p, mu=0, sigma=1, tolerance=0.00001):\n",
    "    \"\"\"find approximate inverse using binary search\"\"\"\n",
    "    # if not standard, compute standard and rescale\n",
    "    if mu != 0 or sigma != 1:\n",
    "        return mu + sigma * inverse_normal_cdf(p, tolerance=tolerance)\n",
    "    \n",
    "    low_z, low_p = -10.0, 0                                   # normal_cdf(-10) is (very close to) 0\n",
    "    hi_z, hi_p = 10.0, 1                                      # normal_cdf(10) is (very close to) 1\n",
    "    while hi_z - low_z > tolerance:\n",
    "        mid_z = (low_z + hi_z) / 2                            # consider the midpoint\n",
    "        mid_p = normal_cdf(mid_z)                             # and the cdf's value there\n",
    "        if mid_p < p:\n",
    "            # midpoint is still too low, search above it\n",
    "            low_z, low_p = mid_z, mid_p\n",
    "        elif mid_p > p:\n",
    "            # midpoint is still too high, search below it\n",
    "            hi_z, hi_p = mid_z, mid_p\n",
    "        else:\n",
    "            break\n",
    "    return mid_z\n",
    "\n",
    "def normal_cdf(x, mu=0,sigma=1):\n",
    "    return (1 + math.erf((x - mu) / math.sqrt(2) / sigma)) / 2\n",
    "\n",
    "def bucketize(point, bucket_size):\n",
    "    \"\"\"floor the point to the next lower multiple of bucket_size\"\"\"\n",
    "    return bucket_size * math.floor(point / bucket_size)\n",
    "\n",
    "def make_histogram(points, bucket_size):\n",
    "    \"\"\"buckets the points and counts how many in each bucket\"\"\"\n",
    "    return Counter(bucketize(point, bucket_size) for point in points)\n",
    "\n",
    "def plot_histogram(points, bucket_size, title=\"\"):\n",
    "    histogram = make_histogram(points, bucket_size)\n",
    "    plt.bar(histogram.keys(), histogram.values(), width=bucket_size)\n",
    "    plt.title(title)\n",
    "    plt.show()"
   ]
  },
  {
   "cell_type": "code",
   "execution_count": null,
   "metadata": {},
   "outputs": [],
   "source": [
    "# 4.1.1 EXAMPLE 2\n",
    "random.seed(0)\n",
    "# uniform between -100 and 100\n",
    "\n",
    "uniform = [200 * random.random() - 100 for _ in range(10000)]\n",
    "# normal distribution with mean 0, standard deviation 57\n",
    "\n",
    "normal = [57 * inverse_normal_cdf(random.random()) for _ in range(10000)]"
   ]
  },
  {
   "cell_type": "code",
   "execution_count": null,
   "metadata": {},
   "outputs": [],
   "source": [
    "# 4.1.1 EXAMPLE 3\n",
    "plot_histogram(uniform, 10, \"Uniform Histogram\")\n",
    "plot_histogram(normal, 10, \"Normal Histogram\")"
   ]
  },
  {
   "cell_type": "markdown",
   "metadata": {},
   "source": [
    "### 4.1.2 2-dimensional Data"
   ]
  },
  {
   "cell_type": "code",
   "execution_count": null,
   "metadata": {},
   "outputs": [],
   "source": [
    "# 4.1.2 EXAMPLE 1\n",
    "def dot(v, w):\n",
    "    \"\"\"v_1 * w_1 + ... + v_n * w_n\"\"\"\n",
    "    return sum(v_i * w_i\n",
    "    for v_i, w_i in zip(v, w))\n",
    "\n",
    "def sum_of_squares(v):\n",
    "    \"\"\"v_1 * v_1 + ... + v_n * v_n\"\"\"\n",
    "    return dot(v, v)\n",
    "\n",
    "def mean(x):\n",
    "    return sum(x) / len(x)\n",
    "\n",
    "def covariance(x, y):\n",
    "    n = len(x)\n",
    "    return dot(de_mean(x), de_mean(y)) / (n - 1)\n",
    "\n",
    "def de_mean(x):\n",
    "    \"\"\"translate x by subtracting its mean (so the result has mean 0)\"\"\"\n",
    "    x_bar = mean(x)\n",
    "    return [x_i - x_bar for x_i in x]\n",
    "\n",
    "def variance(x):\n",
    "    \"\"\"assumes x has at least two elements\"\"\"\n",
    "    n = len(x)\n",
    "    deviations = de_mean(x)\n",
    "    return sum_of_squares(deviations) / (n - 1)\n",
    "\n",
    "def standard_deviation(x):\n",
    "    return math.sqrt(variance(x))\n",
    "\n",
    "def random_normal():\n",
    "    \"\"\"returns a random draw from a standard normal distribution\"\"\"\n",
    "    return inverse_normal_cdf(random.random())\n",
    "\n",
    "xs = [random_normal() for _ in range(1000)]\n",
    "ys1 = [ x + random_normal() / 2 for x in xs]\n",
    "ys2 = [-x + random_normal() / 2 for x in xs]"
   ]
  },
  {
   "cell_type": "code",
   "execution_count": null,
   "metadata": {},
   "outputs": [],
   "source": [
    "# 4.1.2 EXAMPLE 2\n",
    "def correlation(x, y):\n",
    "    stdev_x = standard_deviation(x)\n",
    "    stdev_y = standard_deviation(y)\n",
    "    if stdev_x > 0 and stdev_y > 0:\n",
    "        return covariance(x, y) / stdev_x / stdev_y\n",
    "    else:\n",
    "        return 0 # if no variation, correlation is zero\n",
    "\n",
    "print(correlation(xs, ys1)) # ~ 0.9\n",
    "print(correlation(xs, ys2)) # ~ -0.9"
   ]
  },
  {
   "cell_type": "markdown",
   "metadata": {},
   "source": [
    "### 4.1.3 Many dimensions"
   ]
  },
  {
   "cell_type": "code",
   "execution_count": null,
   "metadata": {},
   "outputs": [],
   "source": [
    "# 4.1.3 EXAMPLE 1\n",
    "def correlation_matrix(data):\n",
    "    \"\"\"returns the num_columns x num_columns matrix whose (i, j)th entry\n",
    "    is the correlation between columns i and j of data\"\"\"\n",
    "    _, num_columns = shape(data)\n",
    "    \n",
    "    def matrix_entry(i, j):\n",
    "        return correlation(get_column(data, i), get_column(data, j))\n",
    "    \n",
    "    return make_matrix(num_columns, num_columns, matrix_entry)"
   ]
  },
  {
   "cell_type": "code",
   "execution_count": null,
   "metadata": {},
   "outputs": [],
   "source": []
  },
  {
   "cell_type": "code",
   "execution_count": null,
   "metadata": {},
   "outputs": [],
   "source": []
  },
  {
   "cell_type": "code",
   "execution_count": null,
   "metadata": {},
   "outputs": [],
   "source": []
  },
  {
   "cell_type": "code",
   "execution_count": null,
   "metadata": {},
   "outputs": [],
   "source": []
  },
  {
   "cell_type": "code",
   "execution_count": null,
   "metadata": {},
   "outputs": [],
   "source": []
  },
  {
   "cell_type": "code",
   "execution_count": null,
   "metadata": {},
   "outputs": [],
   "source": []
  }
 ],
 "metadata": {
  "kernelspec": {
   "display_name": "Python 3",
   "language": "python",
   "name": "python3"
  },
  "language_info": {
   "codemirror_mode": {
    "name": "ipython",
    "version": 3
   },
   "file_extension": ".py",
   "mimetype": "text/x-python",
   "name": "python",
   "nbconvert_exporter": "python",
   "pygments_lexer": "ipython3",
   "version": "3.8.5"
  }
 },
 "nbformat": 4,
 "nbformat_minor": 4
}
